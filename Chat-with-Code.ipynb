{
 "cells": [
  {
   "cell_type": "code",
   "execution_count": 1,
   "metadata": {},
   "outputs": [],
   "source": [
    "import os\n",
    "\n",
    "os.environ[\"HF_HOME\"] = \"/teamspace/studios/this_studio/weights\"\n",
    "os.environ[\"TORCH_HOME\"] = \"/teamspace/studios/this_studio/weights\"\n",
    "\n",
    "import gc\n",
    "import re\n",
    "import uuid\n",
    "import textwrap\n",
    "import subprocess\n",
    "import nest_asyncio\n",
    "from dotenv import load_dotenv\n",
    "from IPython.display import Markdown, display\n",
    "\n",
    "from llama_index.core import Settings\n",
    "from llama_index.llms.ollama import Ollama\n",
    "from llama_index.core import PromptTemplate\n",
    "from llama_index.core import SimpleDirectoryReader\n",
    "from llama_index.core.ingestion import IngestionPipeline\n",
    "from llama_index.core import VectorStoreIndex\n",
    "from llama_index.core.storage.storage_context import StorageContext\n",
    "\n",
    "from langchain.embeddings import HuggingFaceEmbeddings\n",
    "from llama_index.embeddings.langchain import LangchainEmbedding\n",
    "\n",
    "# from rag_101.retriever import (\n",
    "#     load_embedding_model,\n",
    "#     load_reranker_model\n",
    "# )"
   ]
  },
  {
   "cell_type": "code",
   "execution_count": 2,
   "metadata": {},
   "outputs": [],
   "source": [
    "nest_asyncio.apply()"
   ]
  },
  {
   "cell_type": "code",
   "execution_count": 3,
   "metadata": {},
   "outputs": [],
   "source": [
    "OPENAI_API_KEY = os.getenv(\"OPENAI_API_KEY\")\n",
    "\n",
    "from langchain_openai import OpenAIEmbeddings\n",
    "\n",
    "\n",
    "\n",
    "\n",
    "# setting up the llm\n",
    "# llm=Ollama(model=\"mistral\", request_timeout=60.0)\n",
    "\n",
    "# setting up the embedding model\n",
    "lc_embedding_model = OpenAIEmbeddings(model= \"text-embedding-ada-002\")\n",
    "embed_model = LangchainEmbedding(lc_embedding_model)\n"
   ]
  },
  {
   "cell_type": "code",
   "execution_count": 4,
   "metadata": {},
   "outputs": [],
   "source": [
    "\n",
    "def clone_github_repo(repo_url):    \n",
    "    try:\n",
    "        print('Cloning the repo ...')\n",
    "        result = subprocess.run([\"git\", \"clone\", repo_url], check=True, text=True, capture_output=True)\n",
    "    except subprocess.CalledProcessError as e:\n",
    "        print(f\"Failed to clone repository: {e}\")\n",
    "        return None\n"
   ]
  },
  {
   "cell_type": "code",
   "execution_count": 5,
   "metadata": {},
   "outputs": [
    {
     "name": "stdout",
     "output_type": "stream",
     "text": [
      "Cloning the repo ...\n"
     ]
    }
   ],
   "source": [
    "url = \"https://github.com/neilrosario27/Stock_Price_Predictor\"\n",
    "clone_github_repo(url)"
   ]
  },
  {
   "cell_type": "code",
   "execution_count": 6,
   "metadata": {},
   "outputs": [],
   "source": [
    "input_dir_path = \"./Stock_Price_Predictor\"\n",
    "\n",
    "loader = SimpleDirectoryReader(\n",
    "            input_dir = input_dir_path,\n",
    "            required_exts=[\".py\", \".ipynb\", \".js\", \".ts\", \".md\"],\n",
    "            recursive=True\n",
    "        )"
   ]
  },
  {
   "cell_type": "code",
   "execution_count": 7,
   "metadata": {},
   "outputs": [],
   "source": [
    "\n",
    "docs = loader.load_data()\n"
   ]
  },
  {
   "cell_type": "code",
   "execution_count": 8,
   "metadata": {},
   "outputs": [
    {
     "data": {
      "text/plain": [
       "[Document(id_='5c5071ab-92df-4a0c-b29c-337bfeb1c1f5', embedding=None, metadata={'file_path': 'd:\\\\Web Dev\\\\Chat-with-Code\\\\Stock_Price_Predictor\\\\README.md', 'file_name': 'README.md', 'file_size': 485, 'creation_date': '2024-03-14', 'last_modified_date': '2024-03-14'}, excluded_embed_metadata_keys=['file_name', 'file_type', 'file_size', 'creation_date', 'last_modified_date', 'last_accessed_date'], excluded_llm_metadata_keys=['file_name', 'file_type', 'file_size', 'creation_date', 'last_modified_date', 'last_accessed_date'], relationships={}, text='\\n\\nStock Price Predictor\\n\\r\\n', start_char_idx=None, end_char_idx=None, text_template='{metadata_str}\\n\\n{content}', metadata_template='{key}: {value}', metadata_seperator='\\n'),\n",
       " Document(id_='0ac2f569-3a29-46f9-ba51-daccb95114c6', embedding=None, metadata={'file_path': 'd:\\\\Web Dev\\\\Chat-with-Code\\\\Stock_Price_Predictor\\\\README.md', 'file_name': 'README.md', 'file_size': 485, 'creation_date': '2024-03-14', 'last_modified_date': '2024-03-14'}, excluded_embed_metadata_keys=['file_name', 'file_type', 'file_size', 'creation_date', 'last_modified_date', 'last_accessed_date'], excluded_llm_metadata_keys=['file_name', 'file_type', 'file_size', 'creation_date', 'last_modified_date', 'last_accessed_date'], relationships={}, text='\\n\\nOverview\\n\\r\\nThis Python project is a stock price predictor that uses machine learning techniques to analyze historical stock data and make predictions about future stock prices.\\r\\n\\r\\n', start_char_idx=None, end_char_idx=None, text_template='{metadata_str}\\n\\n{content}', metadata_template='{key}: {value}', metadata_seperator='\\n'),\n",
       " Document(id_='5927dc89-9e09-4dec-9720-0ab76da08cb1', embedding=None, metadata={'file_path': 'd:\\\\Web Dev\\\\Chat-with-Code\\\\Stock_Price_Predictor\\\\README.md', 'file_name': 'README.md', 'file_size': 485, 'creation_date': '2024-03-14', 'last_modified_date': '2024-03-14'}, excluded_embed_metadata_keys=['file_name', 'file_type', 'file_size', 'creation_date', 'last_modified_date', 'last_accessed_date'], excluded_llm_metadata_keys=['file_name', 'file_type', 'file_size', 'creation_date', 'last_modified_date', 'last_accessed_date'], relationships={}, text='\\n\\nDependencies\\n\\r\\n- Python 3.x\\r\\n- `pandas`, `numpy`, `matplotlib` for data manipulation and visualization\\r\\n- `pandas_datareader` for fetching stock data\\r\\n- Machine Learning Library (e.g., `scikit-learn` for traditional ML, `tensorflow` or `pytorch` for deep learning)\\r\\n\\r\\n\\r\\n\\n', start_char_idx=None, end_char_idx=None, text_template='{metadata_str}\\n\\n{content}', metadata_template='{key}: {value}', metadata_seperator='\\n'),\n",
       " Document(id_='5c64c7c4-2998-4b8d-ad0b-f4430a2d3fb7', embedding=None, metadata={'file_path': 'd:\\\\Web Dev\\\\Chat-with-Code\\\\Stock_Price_Predictor\\\\stock_price_predictor.ipynb', 'file_name': 'stock_price_predictor.ipynb', 'file_size': 88286, 'creation_date': '2024-03-14', 'last_modified_date': '2024-03-14'}, excluded_embed_metadata_keys=['file_name', 'file_type', 'file_size', 'creation_date', 'last_modified_date', 'last_accessed_date'], excluded_llm_metadata_keys=['file_name', 'file_type', 'file_size', 'creation_date', 'last_modified_date', 'last_accessed_date'], relationships={}, text='\\n\\n\\npip install pandas-datareader\\n\\n\\n# ', start_char_idx=None, end_char_idx=None, text_template='{metadata_str}\\n\\n{content}', metadata_template='{key}: {value}', metadata_seperator='\\n'),\n",
       " Document(id_='3241b373-d017-4254-ae71-6dd57ff81ade', embedding=None, metadata={'file_path': 'd:\\\\Web Dev\\\\Chat-with-Code\\\\Stock_Price_Predictor\\\\stock_price_predictor.ipynb', 'file_name': 'stock_price_predictor.ipynb', 'file_size': 88286, 'creation_date': '2024-03-14', 'last_modified_date': '2024-03-14'}, excluded_embed_metadata_keys=['file_name', 'file_type', 'file_size', 'creation_date', 'last_modified_date', 'last_accessed_date'], excluded_llm_metadata_keys=['file_name', 'file_type', 'file_size', 'creation_date', 'last_modified_date', 'last_accessed_date'], relationships={}, text='\\n\\n\\npip install yfinance\\n\\n\\n# ', start_char_idx=None, end_char_idx=None, text_template='{metadata_str}\\n\\n{content}', metadata_template='{key}: {value}', metadata_seperator='\\n'),\n",
       " Document(id_='64b4afb9-a284-4cce-9cb9-9e7d6d1fc9ca', embedding=None, metadata={'file_path': 'd:\\\\Web Dev\\\\Chat-with-Code\\\\Stock_Price_Predictor\\\\stock_price_predictor.ipynb', 'file_name': 'stock_price_predictor.ipynb', 'file_size': 88286, 'creation_date': '2024-03-14', 'last_modified_date': '2024-03-14'}, excluded_embed_metadata_keys=['file_name', 'file_type', 'file_size', 'creation_date', 'last_modified_date', 'last_accessed_date'], excluded_llm_metadata_keys=['file_name', 'file_type', 'file_size', 'creation_date', 'last_modified_date', 'last_accessed_date'], relationships={}, text='\\n\\n\\nimport numpy as np\\nimport matplotlib.pyplot as plt\\nimport pandas as pd\\nimport pandas_datareader as web\\nimport yfinance as yf\\nimport datetime as dt\\n\\n\\n# ', start_char_idx=None, end_char_idx=None, text_template='{metadata_str}\\n\\n{content}', metadata_template='{key}: {value}', metadata_seperator='\\n'),\n",
       " Document(id_='df141a40-894f-4064-b862-206bc2c878c1', embedding=None, metadata={'file_path': 'd:\\\\Web Dev\\\\Chat-with-Code\\\\Stock_Price_Predictor\\\\stock_price_predictor.ipynb', 'file_name': 'stock_price_predictor.ipynb', 'file_size': 88286, 'creation_date': '2024-03-14', 'last_modified_date': '2024-03-14'}, excluded_embed_metadata_keys=['file_name', 'file_type', 'file_size', 'creation_date', 'last_modified_date', 'last_accessed_date'], excluded_llm_metadata_keys=['file_name', 'file_type', 'file_size', 'creation_date', 'last_modified_date', 'last_accessed_date'], relationships={}, text='\\n\\n\\nfrom sklearn.preprocessing import MinMaxScaler\\nfrom tensorflow.keras.layers import Dense,Dropout, LSTM\\nfrom tensorflow.keras.models import Sequential\\n\\n\\n# ## Importing the Dataset\\n\\n# ', start_char_idx=None, end_char_idx=None, text_template='{metadata_str}\\n\\n{content}', metadata_template='{key}: {value}', metadata_seperator='\\n'),\n",
       " Document(id_='6b486ed4-b004-4aa1-9930-cf9b69d0bf90', embedding=None, metadata={'file_path': 'd:\\\\Web Dev\\\\Chat-with-Code\\\\Stock_Price_Predictor\\\\stock_price_predictor.ipynb', 'file_name': 'stock_price_predictor.ipynb', 'file_size': 88286, 'creation_date': '2024-03-14', 'last_modified_date': '2024-03-14'}, excluded_embed_metadata_keys=['file_name', 'file_type', 'file_size', 'creation_date', 'last_modified_date', 'last_accessed_date'], excluded_llm_metadata_keys=['file_name', 'file_type', 'file_size', 'creation_date', 'last_modified_date', 'last_accessed_date'], relationships={}, text=\"\\n\\n\\n#load data\\ncompany = 'META'\\nstart = dt.datetime(2012, 1, 1)\\nend = dt.datetime(2020, 1, 1)\\n#data = web.DataReader(company, 'yahoo', start, end)\\ndata = yf.download(company, start, end)\\n\\n\\n# ## Preparing the Data \\n\\n# \", start_char_idx=None, end_char_idx=None, text_template='{metadata_str}\\n\\n{content}', metadata_template='{key}: {value}', metadata_seperator='\\n'),\n",
       " Document(id_='519af40f-4854-46e8-a2de-09adea885ac5', embedding=None, metadata={'file_path': 'd:\\\\Web Dev\\\\Chat-with-Code\\\\Stock_Price_Predictor\\\\stock_price_predictor.ipynb', 'file_name': 'stock_price_predictor.ipynb', 'file_size': 88286, 'creation_date': '2024-03-14', 'last_modified_date': '2024-03-14'}, excluded_embed_metadata_keys=['file_name', 'file_type', 'file_size', 'creation_date', 'last_modified_date', 'last_accessed_date'], excluded_llm_metadata_keys=['file_name', 'file_type', 'file_size', 'creation_date', 'last_modified_date', 'last_accessed_date'], relationships={}, text=\"\\n\\n\\nscaler = MinMaxScaler(feature_range=(0,1))\\nscaled_data = scaler.fit_transform(data['Close'].values.reshape(-1,1))\\n\\n\\n# \", start_char_idx=None, end_char_idx=None, text_template='{metadata_str}\\n\\n{content}', metadata_template='{key}: {value}', metadata_seperator='\\n'),\n",
       " Document(id_='36eb17cb-45cc-42ed-996f-8becad312280', embedding=None, metadata={'file_path': 'd:\\\\Web Dev\\\\Chat-with-Code\\\\Stock_Price_Predictor\\\\stock_price_predictor.ipynb', 'file_name': 'stock_price_predictor.ipynb', 'file_size': 88286, 'creation_date': '2024-03-14', 'last_modified_date': '2024-03-14'}, excluded_embed_metadata_keys=['file_name', 'file_type', 'file_size', 'creation_date', 'last_modified_date', 'last_accessed_date'], excluded_llm_metadata_keys=['file_name', 'file_type', 'file_size', 'creation_date', 'last_modified_date', 'last_accessed_date'], relationships={}, text='\\n\\n\\nprediction_days = 60\\n\\n\\n# ', start_char_idx=None, end_char_idx=None, text_template='{metadata_str}\\n\\n{content}', metadata_template='{key}: {value}', metadata_seperator='\\n'),\n",
       " Document(id_='5c9c742a-dfe9-4e0a-a730-ec03d6e29034', embedding=None, metadata={'file_path': 'd:\\\\Web Dev\\\\Chat-with-Code\\\\Stock_Price_Predictor\\\\stock_price_predictor.ipynb', 'file_name': 'stock_price_predictor.ipynb', 'file_size': 88286, 'creation_date': '2024-03-14', 'last_modified_date': '2024-03-14'}, excluded_embed_metadata_keys=['file_name', 'file_type', 'file_size', 'creation_date', 'last_modified_date', 'last_accessed_date'], excluded_llm_metadata_keys=['file_name', 'file_type', 'file_size', 'creation_date', 'last_modified_date', 'last_accessed_date'], relationships={}, text='\\n\\n\\nx_train = []\\ny_train = []\\n\\n\\n# ', start_char_idx=None, end_char_idx=None, text_template='{metadata_str}\\n\\n{content}', metadata_template='{key}: {value}', metadata_seperator='\\n'),\n",
       " Document(id_='fd30771d-de12-4f43-90d7-0b04b712b89d', embedding=None, metadata={'file_path': 'd:\\\\Web Dev\\\\Chat-with-Code\\\\Stock_Price_Predictor\\\\stock_price_predictor.ipynb', 'file_name': 'stock_price_predictor.ipynb', 'file_size': 88286, 'creation_date': '2024-03-14', 'last_modified_date': '2024-03-14'}, excluded_embed_metadata_keys=['file_name', 'file_type', 'file_size', 'creation_date', 'last_modified_date', 'last_accessed_date'], excluded_llm_metadata_keys=['file_name', 'file_type', 'file_size', 'creation_date', 'last_modified_date', 'last_accessed_date'], relationships={}, text='\\n\\n\\nfor x in range(prediction_days, len(scaled_data)):\\n    x_train.append(scaled_data[x-prediction_days:x, 0])\\n    y_train.append(scaled_data[x, 0])\\n\\n\\n# ', start_char_idx=None, end_char_idx=None, text_template='{metadata_str}\\n\\n{content}', metadata_template='{key}: {value}', metadata_seperator='\\n'),\n",
       " Document(id_='023450db-4aa0-47fd-9881-e8a19d0725b1', embedding=None, metadata={'file_path': 'd:\\\\Web Dev\\\\Chat-with-Code\\\\Stock_Price_Predictor\\\\stock_price_predictor.ipynb', 'file_name': 'stock_price_predictor.ipynb', 'file_size': 88286, 'creation_date': '2024-03-14', 'last_modified_date': '2024-03-14'}, excluded_embed_metadata_keys=['file_name', 'file_type', 'file_size', 'creation_date', 'last_modified_date', 'last_accessed_date'], excluded_llm_metadata_keys=['file_name', 'file_type', 'file_size', 'creation_date', 'last_modified_date', 'last_accessed_date'], relationships={}, text='\\n\\n\\nx_train, y_train = np.array(x_train), np.array(y_train)\\nx_train = np.reshape(x_train, (x_train.shape[0], x_train.shape[1], 1))\\n\\n\\n# ## Building the Model\\n\\n# ', start_char_idx=None, end_char_idx=None, text_template='{metadata_str}\\n\\n{content}', metadata_template='{key}: {value}', metadata_seperator='\\n'),\n",
       " Document(id_='733cd018-b65e-40e4-8b58-31ff1e22383c', embedding=None, metadata={'file_path': 'd:\\\\Web Dev\\\\Chat-with-Code\\\\Stock_Price_Predictor\\\\stock_price_predictor.ipynb', 'file_name': 'stock_price_predictor.ipynb', 'file_size': 88286, 'creation_date': '2024-03-14', 'last_modified_date': '2024-03-14'}, excluded_embed_metadata_keys=['file_name', 'file_type', 'file_size', 'creation_date', 'last_modified_date', 'last_accessed_date'], excluded_llm_metadata_keys=['file_name', 'file_type', 'file_size', 'creation_date', 'last_modified_date', 'last_accessed_date'], relationships={}, text='\\n\\n\\nmodel = Sequential()\\n\\n\\n# ', start_char_idx=None, end_char_idx=None, text_template='{metadata_str}\\n\\n{content}', metadata_template='{key}: {value}', metadata_seperator='\\n'),\n",
       " Document(id_='9c44ddb7-b48a-4b06-8182-77360660cc92', embedding=None, metadata={'file_path': 'd:\\\\Web Dev\\\\Chat-with-Code\\\\Stock_Price_Predictor\\\\stock_price_predictor.ipynb', 'file_name': 'stock_price_predictor.ipynb', 'file_size': 88286, 'creation_date': '2024-03-14', 'last_modified_date': '2024-03-14'}, excluded_embed_metadata_keys=['file_name', 'file_type', 'file_size', 'creation_date', 'last_modified_date', 'last_accessed_date'], excluded_llm_metadata_keys=['file_name', 'file_type', 'file_size', 'creation_date', 'last_modified_date', 'last_accessed_date'], relationships={}, text='\\n\\n\\nmodel.add(LSTM(units=50, return_sequences=True, input_shape=(x_train.shape[1], 1)))\\nmodel.add(Dropout(0.2))\\nmodel.add(LSTM(units=50, return_sequences=True))\\nmodel.add(Dropout(0.2))\\nmodel.add(LSTM(units=50))\\nmodel.add(Dropout(0.2))\\nmodel.add(Dense(units=1)) #prediction of next stock price\\n\\n\\n# ', start_char_idx=None, end_char_idx=None, text_template='{metadata_str}\\n\\n{content}', metadata_template='{key}: {value}', metadata_seperator='\\n'),\n",
       " Document(id_='2ed22954-2ba2-418d-a922-b2fbc1232337', embedding=None, metadata={'file_path': 'd:\\\\Web Dev\\\\Chat-with-Code\\\\Stock_Price_Predictor\\\\stock_price_predictor.ipynb', 'file_name': 'stock_price_predictor.ipynb', 'file_size': 88286, 'creation_date': '2024-03-14', 'last_modified_date': '2024-03-14'}, excluded_embed_metadata_keys=['file_name', 'file_type', 'file_size', 'creation_date', 'last_modified_date', 'last_accessed_date'], excluded_llm_metadata_keys=['file_name', 'file_type', 'file_size', 'creation_date', 'last_modified_date', 'last_accessed_date'], relationships={}, text=\"\\n\\n\\nmodel.compile(optimizer='adam', loss='mean_squared_error')\\nmodel.fit(x_train, y_train, epochs=25, batch_size=32)\\n\\n\\n# ## Testing the model accuracy\\n\\n# \", start_char_idx=None, end_char_idx=None, text_template='{metadata_str}\\n\\n{content}', metadata_template='{key}: {value}', metadata_seperator='\\n'),\n",
       " Document(id_='5e1a2233-4481-458b-9ac7-505a99337fcf', embedding=None, metadata={'file_path': 'd:\\\\Web Dev\\\\Chat-with-Code\\\\Stock_Price_Predictor\\\\stock_price_predictor.ipynb', 'file_name': 'stock_price_predictor.ipynb', 'file_size': 88286, 'creation_date': '2024-03-14', 'last_modified_date': '2024-03-14'}, excluded_embed_metadata_keys=['file_name', 'file_type', 'file_size', 'creation_date', 'last_modified_date', 'last_accessed_date'], excluded_llm_metadata_keys=['file_name', 'file_type', 'file_size', 'creation_date', 'last_modified_date', 'last_accessed_date'], relationships={}, text='\\n\\n\\ntest_start = dt.datetime(2020,1,1)\\ntest_end = dt.datetime.now()\\n\\n\\n# ', start_char_idx=None, end_char_idx=None, text_template='{metadata_str}\\n\\n{content}', metadata_template='{key}: {value}', metadata_seperator='\\n'),\n",
       " Document(id_='eb39d615-9a11-4948-87b8-122fac258615', embedding=None, metadata={'file_path': 'd:\\\\Web Dev\\\\Chat-with-Code\\\\Stock_Price_Predictor\\\\stock_price_predictor.ipynb', 'file_name': 'stock_price_predictor.ipynb', 'file_size': 88286, 'creation_date': '2024-03-14', 'last_modified_date': '2024-03-14'}, excluded_embed_metadata_keys=['file_name', 'file_type', 'file_size', 'creation_date', 'last_modified_date', 'last_accessed_date'], excluded_llm_metadata_keys=['file_name', 'file_type', 'file_size', 'creation_date', 'last_modified_date', 'last_accessed_date'], relationships={}, text=\"\\n\\n\\ntest_data = yf.download(company, test_start, test_end)\\nactual_price = test_data['Close'].values\\n\\n\\n# \", start_char_idx=None, end_char_idx=None, text_template='{metadata_str}\\n\\n{content}', metadata_template='{key}: {value}', metadata_seperator='\\n'),\n",
       " Document(id_='ea4f15d0-97cf-4b66-a0d1-39024fea6244', embedding=None, metadata={'file_path': 'd:\\\\Web Dev\\\\Chat-with-Code\\\\Stock_Price_Predictor\\\\stock_price_predictor.ipynb', 'file_name': 'stock_price_predictor.ipynb', 'file_size': 88286, 'creation_date': '2024-03-14', 'last_modified_date': '2024-03-14'}, excluded_embed_metadata_keys=['file_name', 'file_type', 'file_size', 'creation_date', 'last_modified_date', 'last_accessed_date'], excluded_llm_metadata_keys=['file_name', 'file_type', 'file_size', 'creation_date', 'last_modified_date', 'last_accessed_date'], relationships={}, text=\"\\n\\n\\ntotal_dataset = pd.concat((data['Close'], test_data['Close']), axis=0)\\n\\n\\n# \", start_char_idx=None, end_char_idx=None, text_template='{metadata_str}\\n\\n{content}', metadata_template='{key}: {value}', metadata_seperator='\\n'),\n",
       " Document(id_='7fc15969-64f8-4619-af57-b34370dee4b2', embedding=None, metadata={'file_path': 'd:\\\\Web Dev\\\\Chat-with-Code\\\\Stock_Price_Predictor\\\\stock_price_predictor.ipynb', 'file_name': 'stock_price_predictor.ipynb', 'file_size': 88286, 'creation_date': '2024-03-14', 'last_modified_date': '2024-03-14'}, excluded_embed_metadata_keys=['file_name', 'file_type', 'file_size', 'creation_date', 'last_modified_date', 'last_accessed_date'], excluded_llm_metadata_keys=['file_name', 'file_type', 'file_size', 'creation_date', 'last_modified_date', 'last_accessed_date'], relationships={}, text='\\n\\n\\nmodel_inputs = total_dataset[len(total_dataset) - len(test_data) - prediction_days:].values\\nmodel_inputs = model_inputs.reshape(-1,1)\\nmodel_inputs = scaler.transform(model_inputs)\\n\\n\\n# ## Making Prediction\\n\\n# ', start_char_idx=None, end_char_idx=None, text_template='{metadata_str}\\n\\n{content}', metadata_template='{key}: {value}', metadata_seperator='\\n'),\n",
       " Document(id_='9e1cca9f-5d8e-4dc1-b358-a70ac3373efd', embedding=None, metadata={'file_path': 'd:\\\\Web Dev\\\\Chat-with-Code\\\\Stock_Price_Predictor\\\\stock_price_predictor.ipynb', 'file_name': 'stock_price_predictor.ipynb', 'file_size': 88286, 'creation_date': '2024-03-14', 'last_modified_date': '2024-03-14'}, excluded_embed_metadata_keys=['file_name', 'file_type', 'file_size', 'creation_date', 'last_modified_date', 'last_accessed_date'], excluded_llm_metadata_keys=['file_name', 'file_type', 'file_size', 'creation_date', 'last_modified_date', 'last_accessed_date'], relationships={}, text='\\n\\n\\nx_test = []\\n\\n\\n# ', start_char_idx=None, end_char_idx=None, text_template='{metadata_str}\\n\\n{content}', metadata_template='{key}: {value}', metadata_seperator='\\n'),\n",
       " Document(id_='f469ba73-0f7c-4df6-9372-18926226b359', embedding=None, metadata={'file_path': 'd:\\\\Web Dev\\\\Chat-with-Code\\\\Stock_Price_Predictor\\\\stock_price_predictor.ipynb', 'file_name': 'stock_price_predictor.ipynb', 'file_size': 88286, 'creation_date': '2024-03-14', 'last_modified_date': '2024-03-14'}, excluded_embed_metadata_keys=['file_name', 'file_type', 'file_size', 'creation_date', 'last_modified_date', 'last_accessed_date'], excluded_llm_metadata_keys=['file_name', 'file_type', 'file_size', 'creation_date', 'last_modified_date', 'last_accessed_date'], relationships={}, text='\\n\\n\\nfor x in range(prediction_days, len(model_inputs)):\\n    x_test.append(model_inputs[x-prediction_days:x, 0])\\n\\n\\n# ', start_char_idx=None, end_char_idx=None, text_template='{metadata_str}\\n\\n{content}', metadata_template='{key}: {value}', metadata_seperator='\\n'),\n",
       " Document(id_='a19ccd6f-288a-471a-9f7e-1546537c7e33', embedding=None, metadata={'file_path': 'd:\\\\Web Dev\\\\Chat-with-Code\\\\Stock_Price_Predictor\\\\stock_price_predictor.ipynb', 'file_name': 'stock_price_predictor.ipynb', 'file_size': 88286, 'creation_date': '2024-03-14', 'last_modified_date': '2024-03-14'}, excluded_embed_metadata_keys=['file_name', 'file_type', 'file_size', 'creation_date', 'last_modified_date', 'last_accessed_date'], excluded_llm_metadata_keys=['file_name', 'file_type', 'file_size', 'creation_date', 'last_modified_date', 'last_accessed_date'], relationships={}, text='\\n\\n\\nx_test = np.array(x_test)\\nx_test = np.reshape(x_test,(x_test.shape[0], x_test.shape[1],1))\\n\\n\\n# ', start_char_idx=None, end_char_idx=None, text_template='{metadata_str}\\n\\n{content}', metadata_template='{key}: {value}', metadata_seperator='\\n'),\n",
       " Document(id_='b3b087ce-c495-46db-8b63-7a5343791865', embedding=None, metadata={'file_path': 'd:\\\\Web Dev\\\\Chat-with-Code\\\\Stock_Price_Predictor\\\\stock_price_predictor.ipynb', 'file_name': 'stock_price_predictor.ipynb', 'file_size': 88286, 'creation_date': '2024-03-14', 'last_modified_date': '2024-03-14'}, excluded_embed_metadata_keys=['file_name', 'file_type', 'file_size', 'creation_date', 'last_modified_date', 'last_accessed_date'], excluded_llm_metadata_keys=['file_name', 'file_type', 'file_size', 'creation_date', 'last_modified_date', 'last_accessed_date'], relationships={}, text='\\n\\n\\npredicted_prices = model.predict(x_test)\\npredicted_prices = scaler.inverse_transform(predicted_prices)\\n\\n\\n# ## Ploting Test Predictions \\n\\n# ', start_char_idx=None, end_char_idx=None, text_template='{metadata_str}\\n\\n{content}', metadata_template='{key}: {value}', metadata_seperator='\\n'),\n",
       " Document(id_='0503f509-56dc-49b4-ba9c-baa92c66ecb1', embedding=None, metadata={'file_path': 'd:\\\\Web Dev\\\\Chat-with-Code\\\\Stock_Price_Predictor\\\\stock_price_predictor.ipynb', 'file_name': 'stock_price_predictor.ipynb', 'file_size': 88286, 'creation_date': '2024-03-14', 'last_modified_date': '2024-03-14'}, excluded_embed_metadata_keys=['file_name', 'file_type', 'file_size', 'creation_date', 'last_modified_date', 'last_accessed_date'], excluded_llm_metadata_keys=['file_name', 'file_type', 'file_size', 'creation_date', 'last_modified_date', 'last_accessed_date'], relationships={}, text='\\n\\n\\nplt.plot(actual_price, color = \\'black\\', label=f\"Actual {company} Price\")\\nplt.plot(predicted_prices, color = \\'green\\', label=f\"Predicted {company} price\")\\nplt.title(f\"{company} share price\")\\nplt.xlabel(\\'time\\')\\nplt.ylabel(f\"{company} share price\")\\nplt.legend()\\nplt.show()\\n\\n\\n# ##  Predict next day\\n\\n# ', start_char_idx=None, end_char_idx=None, text_template='{metadata_str}\\n\\n{content}', metadata_template='{key}: {value}', metadata_seperator='\\n'),\n",
       " Document(id_='311e9594-7006-4cfb-9e2f-057a8109cfe9', embedding=None, metadata={'file_path': 'd:\\\\Web Dev\\\\Chat-with-Code\\\\Stock_Price_Predictor\\\\stock_price_predictor.ipynb', 'file_name': 'stock_price_predictor.ipynb', 'file_size': 88286, 'creation_date': '2024-03-14', 'last_modified_date': '2024-03-14'}, excluded_embed_metadata_keys=['file_name', 'file_type', 'file_size', 'creation_date', 'last_modified_date', 'last_accessed_date'], excluded_llm_metadata_keys=['file_name', 'file_type', 'file_size', 'creation_date', 'last_modified_date', 'last_accessed_date'], relationships={}, text='\\n\\n\\nreal_data = [model_inputs[len(model_inputs) + 1 - prediction_days:len(model_inputs)]]\\nreal_data = np.array(real_data)\\nreal_data = np.reshape(real_data, (real_data.shape[0], real_data.shape[1],1))\\n\\nprediction = model.predict(real_data)\\nprediction = scaler.inverse_transform(prediction)\\nprint(f\"Prediction: {prediction}\")\\n\\n', start_char_idx=None, end_char_idx=None, text_template='{metadata_str}\\n\\n{content}', metadata_template='{key}: {value}', metadata_seperator='\\n')]"
      ]
     },
     "execution_count": 8,
     "metadata": {},
     "output_type": "execute_result"
    }
   ],
   "source": [
    "docs"
   ]
  },
  {
   "cell_type": "code",
   "execution_count": 9,
   "metadata": {},
   "outputs": [],
   "source": [
    "embeddings = OpenAIEmbeddings(model= \"text-embedding-ada-002\")"
   ]
  },
  {
   "cell_type": "code",
   "execution_count": 10,
   "metadata": {},
   "outputs": [],
   "source": [
    "from langchain.vectorstores import FAISS\n",
    "# Assuming docs is a list of texts\n",
    "doc_texts = [doc.get_text() for doc in docs]\n",
    "\n",
    "# Pass the list of text contents to FAISS.from_texts()\n",
    "docsearch = FAISS.from_texts(doc_texts, embeddings)\n"
   ]
  },
  {
   "cell_type": "code",
   "execution_count": 11,
   "metadata": {},
   "outputs": [
    {
     "data": {
      "text/plain": [
       "OpenAIEmbeddings(client=<openai.resources.embeddings.Embeddings object at 0x000001EDC3432310>, async_client=<openai.resources.embeddings.AsyncEmbeddings object at 0x000001EDC44BD550>, model='text-embedding-ada-002', dimensions=None, deployment='text-embedding-ada-002', openai_api_version='', openai_api_base=None, openai_api_type='', openai_proxy='', embedding_ctx_length=8191, openai_api_key=SecretStr('**********'), openai_organization=None, allowed_special=set(), disallowed_special='all', chunk_size=1000, max_retries=2, request_timeout=None, headers=None, tiktoken_enabled=True, tiktoken_model_name=None, show_progress_bar=False, model_kwargs={}, skip_empty=False, default_headers=None, default_query=None, retry_min_seconds=4, retry_max_seconds=20, http_client=None)"
      ]
     },
     "execution_count": 11,
     "metadata": {},
     "output_type": "execute_result"
    }
   ],
   "source": [
    "docsearch.embedding_function"
   ]
  },
  {
   "cell_type": "code",
   "execution_count": 12,
   "metadata": {},
   "outputs": [
    {
     "name": "stderr",
     "output_type": "stream",
     "text": [
      "d:\\Web Dev\\Chat-with-Code\\venv\\Lib\\site-packages\\langchain_core\\_api\\deprecation.py:117: LangChainDeprecationWarning: The class `langchain_community.llms.openai.OpenAI` was deprecated in langchain-community 0.0.10 and will be removed in 0.2.0. An updated version of the class exists in the langchain-openai package and should be used instead. To use it run `pip install -U langchain-openai` and import as `from langchain_openai import OpenAI`.\n",
      "  warn_deprecated(\n"
     ]
    }
   ],
   "source": [
    "from langchain.chains.question_answering import load_qa_chain\n",
    "from langchain.llms import OpenAI\n",
    "chain = load_qa_chain(OpenAI(),\n",
    "                      chain_type=\"stuff\") # we are going to stuff all the docs in at once"
   ]
  },
  {
   "cell_type": "code",
   "execution_count": 13,
   "metadata": {},
   "outputs": [
    {
     "name": "stderr",
     "output_type": "stream",
     "text": [
      "d:\\Web Dev\\Chat-with-Code\\venv\\Lib\\site-packages\\langchain_core\\_api\\deprecation.py:117: LangChainDeprecationWarning: The function `run` was deprecated in LangChain 0.1.0 and will be removed in 0.2.0. Use invoke instead.\n",
      "  warn_deprecated(\n"
     ]
    },
    {
     "data": {
      "text/plain": [
       "' This code is about installing the pandas-datareader library, which is a dependency for the stock price predictor project.'"
      ]
     },
     "execution_count": 13,
     "metadata": {},
     "output_type": "execute_result"
    }
   ],
   "source": [
    "query = \"What is this code about?\"\n",
    "docs = docsearch.similarity_search(query)\n",
    "chain.run(input_documents=docs, question=query)"
   ]
  },
  {
   "cell_type": "code",
   "execution_count": null,
   "metadata": {},
   "outputs": [],
   "source": []
  },
  {
   "cell_type": "code",
   "execution_count": null,
   "metadata": {},
   "outputs": [],
   "source": []
  }
 ],
 "metadata": {
  "kernelspec": {
   "display_name": "venv",
   "language": "python",
   "name": "python3"
  },
  "language_info": {
   "codemirror_mode": {
    "name": "ipython",
    "version": 3
   },
   "file_extension": ".py",
   "mimetype": "text/x-python",
   "name": "python",
   "nbconvert_exporter": "python",
   "pygments_lexer": "ipython3",
   "version": "3.11.4"
  }
 },
 "nbformat": 4,
 "nbformat_minor": 2
}
